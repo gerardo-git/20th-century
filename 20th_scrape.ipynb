{
 "cells": [
  {
   "cell_type": "code",
   "execution_count": 15,
   "id": "b3fc1044-e749-4180-afff-72d59fee2bf0",
   "metadata": {},
   "outputs": [],
   "source": [
    "# Import libraries\n",
    "\n",
    "import pandas as pd\n",
    "import time\n",
    "import matplotlib.pyplot as plt \n",
    "import os\n",
    "import logging\n",
    "from bs4 import BeautifulSoup\n",
    "import requests"
   ]
  },
  {
   "cell_type": "code",
   "execution_count": 17,
   "id": "23dac10a-f04e-4c0c-969e-d342a153e02b",
   "metadata": {},
   "outputs": [],
   "source": [
    "# Get URL\n",
    "\n",
    "page_url =  requests.get(\"https://en.wikipedia.org/wiki/Key_events_of_the_20th_century\")"
   ]
  },
  {
   "cell_type": "code",
   "execution_count": 21,
   "id": "149fdc77-1c18-4e72-8130-27b982cfbc0b",
   "metadata": {
    "tags": []
   },
   "outputs": [
    {
     "name": "stdout",
     "output_type": "stream",
     "text": [
      "<title>Key events of the 20th century - Wikipedia</title>\n"
     ]
    }
   ],
   "source": [
    "# Create soup and get title\n",
    "\n",
    "soup = BeautifulSoup(page_url.text, 'html.parser')\n",
    "print(soup.title)  "
   ]
  },
  {
   "cell_type": "code",
   "execution_count": 28,
   "id": "0d4f9c37-9f93-4875-a34e-ee7a410ff114",
   "metadata": {
    "tags": []
   },
   "outputs": [],
   "source": [
    "#\n",
    "text = soup.get_text()\n",
    "\n",
    "text = text.encode ('utf-8')\n",
    "\n",
    "with open('20th_century_scrape.txt', 'wb') as f:\n",
    "    f.write(text)"
   ]
  },
  {
   "cell_type": "code",
   "execution_count": 30,
   "id": "d1fe3492-6bff-4277-b108-08944764b7bd",
   "metadata": {
    "tags": []
   },
   "outputs": [
    {
     "data": {
      "text/plain": [
       "'D:\\\\Documents\\\\Jupyter Lab Projects\\\\20th-century'"
      ]
     },
     "execution_count": 30,
     "metadata": {},
     "output_type": "execute_result"
    }
   ],
   "source": [
    "# get the current directory address. \n",
    "os.getcwd()"
   ]
  },
  {
   "cell_type": "code",
   "execution_count": null,
   "id": "388685b3-8ea5-49ce-a751-a51ea56be61e",
   "metadata": {},
   "outputs": [],
   "source": []
  }
 ],
 "metadata": {
  "kernelspec": {
   "display_name": "Python [conda env:venv_20th_century]",
   "language": "python",
   "name": "conda-env-venv_20th_century-py"
  },
  "language_info": {
   "codemirror_mode": {
    "name": "ipython",
    "version": 3
   },
   "file_extension": ".py",
   "mimetype": "text/x-python",
   "name": "python",
   "nbconvert_exporter": "python",
   "pygments_lexer": "ipython3",
   "version": "3.13.0"
  }
 },
 "nbformat": 4,
 "nbformat_minor": 5
}
